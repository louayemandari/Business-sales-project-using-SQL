{
  "nbformat": 4,
  "nbformat_minor": 0,
  "metadata": {
    "colab": {
      "provenance": []
    },
    "kernelspec": {
      "name": "python3",
      "display_name": "Python 3"
    },
    "language_info": {
      "name": "python"
    }
  },
  "cells": [
    {
      "cell_type": "code",
      "source": [
        "%reload_ext sql\n",
        "import pandas as pd\n",
        "%matplotlib inline\n"
      ],
      "metadata": {
        "id": "u2Du43cp5-Uh"
      },
      "execution_count": null,
      "outputs": []
    },
    {
      "cell_type": "markdown",
      "source": [
        "creates a db called retail"
      ],
      "metadata": {
        "id": "PV5Jnpau66Zd"
      }
    },
    {
      "cell_type": "code",
      "source": [
        "%sql sqlite:///retail.db\n"
      ],
      "metadata": {
        "colab": {
          "base_uri": "https://localhost:8080/",
          "height": 42
        },
        "id": "ntujqIcI6TC7",
        "outputId": "a28e1320-c0f1-46f6-fb49-590ca7adafdc"
      },
      "execution_count": null,
      "outputs": [
        {
          "output_type": "execute_result",
          "data": {
            "text/plain": [
              "'Connected: @retail.db'"
            ],
            "application/vnd.google.colaboratory.intrinsic+json": {
              "type": "string"
            }
          },
          "metadata": {},
          "execution_count": 3
        }
      ]
    },
    {
      "cell_type": "markdown",
      "source": [
        "this code transfers my csv file into the database "
      ],
      "metadata": {
        "id": "sGZeI4r673rS"
      }
    },
    {
      "cell_type": "code",
      "source": [
        "import sqlite3\n",
        "import pandas as pd\n",
        "\n",
        "# Load the CSV file into a pandas dataframe\n",
        "df = pd.read_csv('business_retailsales.csv')\n",
        "\n",
        "# Create a connection to the SQLite database\n",
        "conn = sqlite3.connect('retail.db')\n",
        "\n",
        "# Write the dataframe to a new table in the database\n",
        "df.to_sql('business', conn, if_exists='replace', index=False)\n",
        "\n",
        "# Close the database connection\n",
        "conn.close()\n"
      ],
      "metadata": {
        "colab": {
          "base_uri": "https://localhost:8080/"
        },
        "id": "IujLr9Os6UEA",
        "outputId": "4c78e652-7b07-48a9-c875-95426ce18714"
      },
      "execution_count": null,
      "outputs": [
        {
          "output_type": "stream",
          "name": "stderr",
          "text": [
            "/usr/local/lib/python3.8/dist-packages/pandas/core/generic.py:2872: UserWarning: The spaces in these column names will not be changed. In pandas versions < 0.14, spaces were converted to underscores.\n",
            "  sql.to_sql(\n"
          ]
        }
      ]
    },
    {
      "cell_type": "code",
      "source": [
        "%%sql\n",
        " SELECT * FROM business LIMIT 15\n"
      ],
      "metadata": {
        "colab": {
          "base_uri": "https://localhost:8080/",
          "height": 389
        },
        "id": "izyT0ss06sNu",
        "outputId": "5c8a90a2-4eb6-4b6a-d068-1b659b9ee954"
      },
      "execution_count": null,
      "outputs": [
        {
          "output_type": "stream",
          "name": "stdout",
          "text": [
            " * sqlite:///retail.db\n",
            "Done.\n"
          ]
        },
        {
          "output_type": "execute_result",
          "data": {
            "text/plain": [
              "[('Art & Sculpture', 34, 14935.0, -594.0, -1609.0, 12732.0),\n",
              " ('Basket', 13, 3744.0, -316.8, 0.0, 3427.2),\n",
              " ('Basket', 12, 3825.0, -201.6, -288.0, 3335.4),\n",
              " ('Basket', 17, 3035.0, -63.25, 0.0, 2971.75),\n",
              " ('Art & Sculpture', 47, 2696.8, -44.16, 0.0, 2652.64),\n",
              " ('Basket', 17, 2695.0, -52.5, -110.0, 2532.5),\n",
              " ('Basket', 20, 2310.0, -66.0, -110.0, 2134.0),\n",
              " ('Christmas', 90, 2160.0, -45.59, 0.0, 2114.41),\n",
              " ('Art & Sculpture', 10, 2250.0, -180.0, 0.0, 2070.0),\n",
              " ('Basket', 11, 1925.0, -17.5, 0.0, 1907.5),\n",
              " ('Basket', 30, 1907.0, -41.3, 0.0, 1865.7),\n",
              " ('Home Decor', 19, 1748.0, -46.85, 0.0, 1701.15),\n",
              " ('Basket', 15, 1725.0, -92.0, 0.0, 1633.0),\n",
              " ('Art & Sculpture', 2, 1625.0, -5.0, 0.0, 1620.0),\n",
              " ('Recycled Art', 37, 1554.0, -29.4, 0.0, 1524.6)]"
            ],
            "text/html": [
              "<table>\n",
              "    <thead>\n",
              "        <tr>\n",
              "            <th>Product Type</th>\n",
              "            <th>Net Quantity</th>\n",
              "            <th>Gross Sales</th>\n",
              "            <th>Discounts</th>\n",
              "            <th>Returns</th>\n",
              "            <th>Total Net Sales</th>\n",
              "        </tr>\n",
              "    </thead>\n",
              "    <tbody>\n",
              "        <tr>\n",
              "            <td>Art &amp; Sculpture</td>\n",
              "            <td>34</td>\n",
              "            <td>14935.0</td>\n",
              "            <td>-594.0</td>\n",
              "            <td>-1609.0</td>\n",
              "            <td>12732.0</td>\n",
              "        </tr>\n",
              "        <tr>\n",
              "            <td>Basket</td>\n",
              "            <td>13</td>\n",
              "            <td>3744.0</td>\n",
              "            <td>-316.8</td>\n",
              "            <td>0.0</td>\n",
              "            <td>3427.2</td>\n",
              "        </tr>\n",
              "        <tr>\n",
              "            <td>Basket</td>\n",
              "            <td>12</td>\n",
              "            <td>3825.0</td>\n",
              "            <td>-201.6</td>\n",
              "            <td>-288.0</td>\n",
              "            <td>3335.4</td>\n",
              "        </tr>\n",
              "        <tr>\n",
              "            <td>Basket</td>\n",
              "            <td>17</td>\n",
              "            <td>3035.0</td>\n",
              "            <td>-63.25</td>\n",
              "            <td>0.0</td>\n",
              "            <td>2971.75</td>\n",
              "        </tr>\n",
              "        <tr>\n",
              "            <td>Art &amp; Sculpture</td>\n",
              "            <td>47</td>\n",
              "            <td>2696.8</td>\n",
              "            <td>-44.16</td>\n",
              "            <td>0.0</td>\n",
              "            <td>2652.64</td>\n",
              "        </tr>\n",
              "        <tr>\n",
              "            <td>Basket</td>\n",
              "            <td>17</td>\n",
              "            <td>2695.0</td>\n",
              "            <td>-52.5</td>\n",
              "            <td>-110.0</td>\n",
              "            <td>2532.5</td>\n",
              "        </tr>\n",
              "        <tr>\n",
              "            <td>Basket</td>\n",
              "            <td>20</td>\n",
              "            <td>2310.0</td>\n",
              "            <td>-66.0</td>\n",
              "            <td>-110.0</td>\n",
              "            <td>2134.0</td>\n",
              "        </tr>\n",
              "        <tr>\n",
              "            <td>Christmas</td>\n",
              "            <td>90</td>\n",
              "            <td>2160.0</td>\n",
              "            <td>-45.59</td>\n",
              "            <td>0.0</td>\n",
              "            <td>2114.41</td>\n",
              "        </tr>\n",
              "        <tr>\n",
              "            <td>Art &amp; Sculpture</td>\n",
              "            <td>10</td>\n",
              "            <td>2250.0</td>\n",
              "            <td>-180.0</td>\n",
              "            <td>0.0</td>\n",
              "            <td>2070.0</td>\n",
              "        </tr>\n",
              "        <tr>\n",
              "            <td>Basket</td>\n",
              "            <td>11</td>\n",
              "            <td>1925.0</td>\n",
              "            <td>-17.5</td>\n",
              "            <td>0.0</td>\n",
              "            <td>1907.5</td>\n",
              "        </tr>\n",
              "        <tr>\n",
              "            <td>Basket</td>\n",
              "            <td>30</td>\n",
              "            <td>1907.0</td>\n",
              "            <td>-41.3</td>\n",
              "            <td>0.0</td>\n",
              "            <td>1865.7</td>\n",
              "        </tr>\n",
              "        <tr>\n",
              "            <td>Home Decor</td>\n",
              "            <td>19</td>\n",
              "            <td>1748.0</td>\n",
              "            <td>-46.85</td>\n",
              "            <td>0.0</td>\n",
              "            <td>1701.15</td>\n",
              "        </tr>\n",
              "        <tr>\n",
              "            <td>Basket</td>\n",
              "            <td>15</td>\n",
              "            <td>1725.0</td>\n",
              "            <td>-92.0</td>\n",
              "            <td>0.0</td>\n",
              "            <td>1633.0</td>\n",
              "        </tr>\n",
              "        <tr>\n",
              "            <td>Art &amp; Sculpture</td>\n",
              "            <td>2</td>\n",
              "            <td>1625.0</td>\n",
              "            <td>-5.0</td>\n",
              "            <td>0.0</td>\n",
              "            <td>1620.0</td>\n",
              "        </tr>\n",
              "        <tr>\n",
              "            <td>Recycled Art</td>\n",
              "            <td>37</td>\n",
              "            <td>1554.0</td>\n",
              "            <td>-29.4</td>\n",
              "            <td>0.0</td>\n",
              "            <td>1524.6</td>\n",
              "        </tr>\n",
              "    </tbody>\n",
              "</table>"
            ]
          },
          "metadata": {},
          "execution_count": 9
        }
      ]
    },
    {
      "cell_type": "code",
      "source": [
        "%%sql\n",
        "\n",
        "SELECT \"Product Type\" , \"Gross Sales\" FROM business GROUP BY \"Product Type\""
      ],
      "metadata": {
        "colab": {
          "base_uri": "https://localhost:8080/",
          "height": 472
        },
        "id": "ggb89umg8Fdj",
        "outputId": "84f530bc-ac3f-468f-b910-be49745b10fe"
      },
      "execution_count": null,
      "outputs": [
        {
          "output_type": "stream",
          "name": "stdout",
          "text": [
            " * sqlite:///retail.db\n",
            "Done.\n"
          ]
        },
        {
          "output_type": "execute_result",
          "data": {
            "text/plain": [
              "[(None, 158.0),\n",
              " ('Accessories', 472.0),\n",
              " ('Art & Sculpture', 14935.0),\n",
              " ('Basket', 3744.0),\n",
              " ('Christmas', 2160.0),\n",
              " ('Easter', 38.0),\n",
              " ('Fair Trade Gifts', 432.0),\n",
              " ('Furniture', 350.0),\n",
              " ('Gift Baskets', 19.5),\n",
              " ('Home Decor', 1748.0),\n",
              " ('Jewelry', 1584.0),\n",
              " ('Kids', 264.0),\n",
              " ('Kitchen', 1104.0),\n",
              " ('Music', 328.0),\n",
              " ('One-of-a-Kind', 450.0),\n",
              " ('Recycled Art', 1554.0),\n",
              " ('Skin Care', 1216.0),\n",
              " ('Soapstone', 359.0),\n",
              " ('Textiles', 564.0)]"
            ],
            "text/html": [
              "<table>\n",
              "    <thead>\n",
              "        <tr>\n",
              "            <th>Product Type</th>\n",
              "            <th>Gross Sales</th>\n",
              "        </tr>\n",
              "    </thead>\n",
              "    <tbody>\n",
              "        <tr>\n",
              "            <td>None</td>\n",
              "            <td>158.0</td>\n",
              "        </tr>\n",
              "        <tr>\n",
              "            <td>Accessories</td>\n",
              "            <td>472.0</td>\n",
              "        </tr>\n",
              "        <tr>\n",
              "            <td>Art &amp; Sculpture</td>\n",
              "            <td>14935.0</td>\n",
              "        </tr>\n",
              "        <tr>\n",
              "            <td>Basket</td>\n",
              "            <td>3744.0</td>\n",
              "        </tr>\n",
              "        <tr>\n",
              "            <td>Christmas</td>\n",
              "            <td>2160.0</td>\n",
              "        </tr>\n",
              "        <tr>\n",
              "            <td>Easter</td>\n",
              "            <td>38.0</td>\n",
              "        </tr>\n",
              "        <tr>\n",
              "            <td>Fair Trade Gifts</td>\n",
              "            <td>432.0</td>\n",
              "        </tr>\n",
              "        <tr>\n",
              "            <td>Furniture</td>\n",
              "            <td>350.0</td>\n",
              "        </tr>\n",
              "        <tr>\n",
              "            <td>Gift Baskets</td>\n",
              "            <td>19.5</td>\n",
              "        </tr>\n",
              "        <tr>\n",
              "            <td>Home Decor</td>\n",
              "            <td>1748.0</td>\n",
              "        </tr>\n",
              "        <tr>\n",
              "            <td>Jewelry</td>\n",
              "            <td>1584.0</td>\n",
              "        </tr>\n",
              "        <tr>\n",
              "            <td>Kids</td>\n",
              "            <td>264.0</td>\n",
              "        </tr>\n",
              "        <tr>\n",
              "            <td>Kitchen</td>\n",
              "            <td>1104.0</td>\n",
              "        </tr>\n",
              "        <tr>\n",
              "            <td>Music</td>\n",
              "            <td>328.0</td>\n",
              "        </tr>\n",
              "        <tr>\n",
              "            <td>One-of-a-Kind</td>\n",
              "            <td>450.0</td>\n",
              "        </tr>\n",
              "        <tr>\n",
              "            <td>Recycled Art</td>\n",
              "            <td>1554.0</td>\n",
              "        </tr>\n",
              "        <tr>\n",
              "            <td>Skin Care</td>\n",
              "            <td>1216.0</td>\n",
              "        </tr>\n",
              "        <tr>\n",
              "            <td>Soapstone</td>\n",
              "            <td>359.0</td>\n",
              "        </tr>\n",
              "        <tr>\n",
              "            <td>Textiles</td>\n",
              "            <td>564.0</td>\n",
              "        </tr>\n",
              "    </tbody>\n",
              "</table>"
            ]
          },
          "metadata": {},
          "execution_count": 10
        }
      ]
    },
    {
      "cell_type": "code",
      "source": [
        "%%sql\n",
        "\n",
        "\n",
        "SELECT \"Product Type\" , SUM(\"Total Net Sales\") as \"Net Sales per type\" \n",
        "FROM business  \n",
        "GROUP BY \"Product Type\" \n",
        "having \"Net Sales per type\" > 10000"
      ],
      "metadata": {
        "colab": {
          "base_uri": "https://localhost:8080/",
          "height": 200
        },
        "id": "3smSL7hp9V1S",
        "outputId": "92caea89-5763-4e58-a38c-3e14fd1a51e1"
      },
      "execution_count": null,
      "outputs": [
        {
          "output_type": "stream",
          "name": "stdout",
          "text": [
            " * sqlite:///retail.db\n",
            "Done.\n"
          ]
        },
        {
          "output_type": "execute_result",
          "data": {
            "text/plain": [
              "[('Art & Sculpture', 84480.84999999999),\n",
              " ('Basket', 134791.38999999998),\n",
              " ('Christmas', 14460.810000000007),\n",
              " ('Home Decor', 25699.99000000001),\n",
              " ('Jewelry', 29572.950000000004),\n",
              " ('Kitchen', 15336.82000000001)]"
            ],
            "text/html": [
              "<table>\n",
              "    <thead>\n",
              "        <tr>\n",
              "            <th>Product Type</th>\n",
              "            <th>Net Sales per type</th>\n",
              "        </tr>\n",
              "    </thead>\n",
              "    <tbody>\n",
              "        <tr>\n",
              "            <td>Art &amp; Sculpture</td>\n",
              "            <td>84480.84999999999</td>\n",
              "        </tr>\n",
              "        <tr>\n",
              "            <td>Basket</td>\n",
              "            <td>134791.38999999998</td>\n",
              "        </tr>\n",
              "        <tr>\n",
              "            <td>Christmas</td>\n",
              "            <td>14460.810000000007</td>\n",
              "        </tr>\n",
              "        <tr>\n",
              "            <td>Home Decor</td>\n",
              "            <td>25699.99000000001</td>\n",
              "        </tr>\n",
              "        <tr>\n",
              "            <td>Jewelry</td>\n",
              "            <td>29572.950000000004</td>\n",
              "        </tr>\n",
              "        <tr>\n",
              "            <td>Kitchen</td>\n",
              "            <td>15336.82000000001</td>\n",
              "        </tr>\n",
              "    </tbody>\n",
              "</table>"
            ]
          },
          "metadata": {},
          "execution_count": 11
        }
      ]
    },
    {
      "cell_type": "code",
      "source": [
        "%%sql\n",
        "\n",
        "\n",
        "SELECT \"Product Type\", \n",
        "       count(\"Product Type\") as \"total number of orders per type\", \n",
        "       sum(\"Net Quantity\") as \"Total Quantity Ordered\",\n",
        "       SUM(\"Total Net Sales\") as \"Net Sales per type\" \n",
        "FROM business \n",
        "GROUP BY \"Product Type\"\n",
        "HAVING \"total number of orders per type\" > 100 or \"Total Quantity Ordered\" > 100\n",
        "ORDER BY \"Net Sales per type\" DESC\n",
        "\n"
      ],
      "metadata": {
        "colab": {
          "base_uri": "https://localhost:8080/",
          "height": 284
        },
        "id": "40K7vcEW-LH3",
        "outputId": "a8bbe560-50bc-48ad-cacc-34e4af813428"
      },
      "execution_count": null,
      "outputs": [
        {
          "output_type": "stream",
          "name": "stdout",
          "text": [
            " * sqlite:///retail.db\n",
            "Done.\n"
          ]
        },
        {
          "output_type": "execute_result",
          "data": {
            "text/plain": [
              "[('Basket', 551, 1461, 134791.38999999998),\n",
              " ('Art & Sculpture', 337, 1427, 84480.84999999999),\n",
              " ('Jewelry', 210, 991, 29572.950000000004),\n",
              " ('Home Decor', 131, 404, 25699.99000000001),\n",
              " ('Kitchen', 161, 809, 15336.82000000001),\n",
              " ('Christmas', 73, 575, 14460.810000000007),\n",
              " ('Soapstone', 67, 199, 4629.089999999999),\n",
              " ('Kids', 63, 140, 3721.3399999999997),\n",
              " ('Skin Care', 11, 101, 2571.8000000000006),\n",
              " ('Fair Trade Gifts', 28, 110, 2204.67)]"
            ],
            "text/html": [
              "<table>\n",
              "    <thead>\n",
              "        <tr>\n",
              "            <th>Product Type</th>\n",
              "            <th>total number of orders per type</th>\n",
              "            <th>Total Quantity Ordered</th>\n",
              "            <th>Net Sales per type</th>\n",
              "        </tr>\n",
              "    </thead>\n",
              "    <tbody>\n",
              "        <tr>\n",
              "            <td>Basket</td>\n",
              "            <td>551</td>\n",
              "            <td>1461</td>\n",
              "            <td>134791.38999999998</td>\n",
              "        </tr>\n",
              "        <tr>\n",
              "            <td>Art &amp; Sculpture</td>\n",
              "            <td>337</td>\n",
              "            <td>1427</td>\n",
              "            <td>84480.84999999999</td>\n",
              "        </tr>\n",
              "        <tr>\n",
              "            <td>Jewelry</td>\n",
              "            <td>210</td>\n",
              "            <td>991</td>\n",
              "            <td>29572.950000000004</td>\n",
              "        </tr>\n",
              "        <tr>\n",
              "            <td>Home Decor</td>\n",
              "            <td>131</td>\n",
              "            <td>404</td>\n",
              "            <td>25699.99000000001</td>\n",
              "        </tr>\n",
              "        <tr>\n",
              "            <td>Kitchen</td>\n",
              "            <td>161</td>\n",
              "            <td>809</td>\n",
              "            <td>15336.82000000001</td>\n",
              "        </tr>\n",
              "        <tr>\n",
              "            <td>Christmas</td>\n",
              "            <td>73</td>\n",
              "            <td>575</td>\n",
              "            <td>14460.810000000007</td>\n",
              "        </tr>\n",
              "        <tr>\n",
              "            <td>Soapstone</td>\n",
              "            <td>67</td>\n",
              "            <td>199</td>\n",
              "            <td>4629.089999999999</td>\n",
              "        </tr>\n",
              "        <tr>\n",
              "            <td>Kids</td>\n",
              "            <td>63</td>\n",
              "            <td>140</td>\n",
              "            <td>3721.3399999999997</td>\n",
              "        </tr>\n",
              "        <tr>\n",
              "            <td>Skin Care</td>\n",
              "            <td>11</td>\n",
              "            <td>101</td>\n",
              "            <td>2571.8000000000006</td>\n",
              "        </tr>\n",
              "        <tr>\n",
              "            <td>Fair Trade Gifts</td>\n",
              "            <td>28</td>\n",
              "            <td>110</td>\n",
              "            <td>2204.67</td>\n",
              "        </tr>\n",
              "    </tbody>\n",
              "</table>"
            ]
          },
          "metadata": {},
          "execution_count": 16
        }
      ]
    }
  ]
}